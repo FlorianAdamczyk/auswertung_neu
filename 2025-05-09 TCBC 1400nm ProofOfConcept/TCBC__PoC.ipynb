{
 "cells": [
  {
   "cell_type": "markdown",
   "id": "5a0c9b49",
   "metadata": {},
   "source": [
    "# Temperature Documentation"
   ]
  },
  {
   "cell_type": "code",
   "execution_count": null,
   "id": "6bc66338",
   "metadata": {},
   "outputs": [],
   "source": []
  }
 ],
 "metadata": {
  "language_info": {
   "name": "python"
  }
 },
 "nbformat": 4,
 "nbformat_minor": 5
}
