{
 "cells": [
  {
   "cell_type": "markdown",
   "id": "d2bcd5be",
   "metadata": {},
   "source": [
    "# **TCBC** Proof of Concept\n",
    "with 20cm Lens"
   ]
  },
  {
   "cell_type": "code",
   "execution_count": null,
   "id": "059081bd",
   "metadata": {},
   "outputs": [],
   "source": []
  }
 ],
 "metadata": {
  "language_info": {
   "name": "python"
  }
 },
 "nbformat": 4,
 "nbformat_minor": 5
}
